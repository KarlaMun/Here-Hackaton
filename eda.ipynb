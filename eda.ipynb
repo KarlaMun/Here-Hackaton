{
 "cells": [
  {
   "cell_type": "code",
   "execution_count": 35,
   "id": "6d3774d6",
   "metadata": {},
   "outputs": [],
   "source": [
    "# Import libraries\n",
    "import numpy as np\n",
    "import matplotlib.pyplot as plt\n",
    "import pandas as pd\n",
    "import seaborn as sns\n",
    "import scipy.stats as stats\n",
    "import json\n",
    "import geopandas as gpd"
   ]
  },
  {
   "cell_type": "code",
   "execution_count": 36,
   "id": "de382a8f",
   "metadata": {},
   "outputs": [],
   "source": [
    "pois = pd.read_csv('data\\POIs\\POI_4815075.csv')\n",
    "street_names = json.load(open('data\\STREETS_NAMING_ADDRESSING\\SREETS_NAMING_ADDRESSING_4815075.geojson', 'r'))\n",
    "#street_nav = json.load('data\\STREETS_NAV\\SREETS_NAVIGATION_4815075.csv')"
   ]
  },
  {
   "cell_type": "code",
   "execution_count": 37,
   "id": "5b130c67",
   "metadata": {},
   "outputs": [],
   "source": [
    "street_names = pd.DataFrame(street_names['features'])"
   ]
  },
  {
   "cell_type": "code",
   "execution_count": 38,
   "id": "f104f1da",
   "metadata": {},
   "outputs": [],
   "source": [
    "column_names = [\"ADDR_TYPE\", \"link_id\", \"L_ADDRFORM\", \"L_ADDRSCH\", \"L_NREFADDR\", \"L_REFADDR\", \"R_ADDRFORM\", \"R_ADDRSCH\", \"R_NREFADDR\", \"R_REFADDR\", \"ST_LANGCD\", \"ST_NAME\", \"ST_NM_BASE\", \"ST_NM_SUFF\", \"ST_TYP_AFT\", \"ST_TYP_ATT\", \"ST_TYP_BEF\"]\n",
    "for column in column_names:\n",
    "    street_names[column] = street_names['properties'].apply(lambda x: x[column])\n",
    "geometry_names = [\"coordinates\", \"type\"]\n",
    "for column in geometry_names:\n",
    "    street_names[column] = street_names['geometry'].apply(lambda x: x[column])"
   ]
  },
  {
   "cell_type": "code",
   "execution_count": 39,
   "id": "50603e6c",
   "metadata": {},
   "outputs": [],
   "source": [
    "street_names.drop(columns=['geometry', 'properties'], inplace=True)"
   ]
  },
  {
   "cell_type": "code",
   "execution_count": 40,
   "id": "b70ce97f",
   "metadata": {},
   "outputs": [
    {
     "data": {
      "text/plain": [
       "type               0\n",
       "ADDR_TYPE      21406\n",
       "link_id            0\n",
       "L_ADDRFORM     24389\n",
       "L_ADDRSCH      24389\n",
       "L_NREFADDR     24389\n",
       "L_REFADDR      24389\n",
       "R_ADDRFORM     24548\n",
       "R_ADDRSCH      24548\n",
       "R_NREFADDR     24548\n",
       "R_REFADDR      24548\n",
       "ST_LANGCD      10687\n",
       "ST_NAME        10687\n",
       "ST_NM_BASE     10687\n",
       "ST_NM_SUFF     31206\n",
       "ST_TYP_AFT     31205\n",
       "ST_TYP_ATT         0\n",
       "ST_TYP_BEF     11545\n",
       "coordinates        0\n",
       "dtype: int64"
      ]
     },
     "execution_count": 40,
     "metadata": {},
     "output_type": "execute_result"
    }
   ],
   "source": [
    "street_names.isna().sum()"
   ]
  }
 ],
 "metadata": {
  "kernelspec": {
   "display_name": "base",
   "language": "python",
   "name": "python3"
  },
  "language_info": {
   "codemirror_mode": {
    "name": "ipython",
    "version": 3
   },
   "file_extension": ".py",
   "mimetype": "text/x-python",
   "name": "python",
   "nbconvert_exporter": "python",
   "pygments_lexer": "ipython3",
   "version": "3.11.5"
  }
 },
 "nbformat": 4,
 "nbformat_minor": 5
}
